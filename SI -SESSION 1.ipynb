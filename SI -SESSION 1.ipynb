{
 "cells": [
  {
   "cell_type": "code",
   "execution_count": 1,
   "id": "37879999",
   "metadata": {},
   "outputs": [],
   "source": [
    "# Decimal to Binary    *NOTE : will add all conversion in some other file"
   ]
  },
  {
   "cell_type": "code",
   "execution_count": 57,
   "id": "d8c550c3",
   "metadata": {},
   "outputs": [
    {
     "name": "stdout",
     "output_type": "stream",
     "text": [
      "01010\n",
      "10\n",
      "12\n",
      "15\n"
     ]
    }
   ],
   "source": [
    "def dec_bin(n):\n",
    "    if n>=1:\n",
    "        dec_bin(n//2)\n",
    "    print(n%2,end=\"\")\n",
    "    \n",
    "def dec_bin2(n):\n",
    "    return bin(n).replace(\"0b\", \"\")\n",
    "def dec_bin3(n):\n",
    "    i=0\n",
    "    bnum=[]\n",
    "    while(n!=0):\n",
    "        rem=n%2\n",
    "        bnum.insert(i,rem)\n",
    "        i=i+1\n",
    "        n=int(n//2)\n",
    "    i-=1\n",
    "    while i>=0:\n",
    "        print(end=str(bnum[i]))\n",
    "        i-=1\n",
    "    print()\n",
    "    \n",
    "###############################################################\n",
    "    \n",
    "def bin_dec(num):\n",
    "    s=0\n",
    "    i=0\n",
    "    while(int(num)):\n",
    "        s+= int(num)%10 * pow(2,i)\n",
    "        num=int(num)/10\n",
    "        i=i+1\n",
    "    print(s)\n",
    "    \n",
    "def bin_dec2(num):\n",
    "    print(int(num,2))\n",
    "\n",
    "def bin_dec3(num): \n",
    "    dec = 0 \n",
    "    for dig in num: \n",
    "        dec = dec*2 + int(dig) \n",
    "    print(dec)\n",
    "    \n",
    "if __name__=='__main__':\n",
    "    dec_bin(10)\n",
    "    print()\n",
    "    dec_bin2(12)\n",
    "    \n",
    "    bin_dec(\"01010\")\n",
    "    bin_dec2(\"1100\")\n",
    "    bin_dec3(\"1111\")"
   ]
  },
  {
   "cell_type": "code",
   "execution_count": 76,
   "id": "46b15325",
   "metadata": {},
   "outputs": [],
   "source": [
    "# 1's complement of a number"
   ]
  },
  {
   "cell_type": "code",
   "execution_count": 113,
   "id": "0b345abb",
   "metadata": {},
   "outputs": [],
   "source": [
    "def one_comp(num):\n",
    "    onecomp=[]\n",
    "    for i in num:\n",
    "        if i=='1':\n",
    "            onecomp.append(0)\n",
    "        else:\n",
    "            onecomp.append(1)\n",
    "    str1 = ''.join(str(x) for x in onecomp)\n",
    "    return str1"
   ]
  },
  {
   "cell_type": "code",
   "execution_count": 115,
   "id": "8838dfdf",
   "metadata": {},
   "outputs": [],
   "source": [
    " # 2's complement of a number is addding 1 to 1's complement of the number : will implement its program later"
   ]
  },
  {
   "cell_type": "code",
   "execution_count": 116,
   "id": "2fe0085e",
   "metadata": {},
   "outputs": [],
   "source": [
    "#Binary addition"
   ]
  },
  {
   "cell_type": "code",
   "execution_count": 119,
   "id": "f2409f1a",
   "metadata": {},
   "outputs": [
    {
     "name": "stdout",
     "output_type": "stream",
     "text": [
      "10110\n"
     ]
    }
   ],
   "source": [
    "a=\"1101\"\n",
    "b=\"1001\"\n",
    "\n",
    "sum1=0\n",
    "sum1=bin(int(a,2)+int(b,2))\n",
    "print(sum1[2:]) "
   ]
  },
  {
   "cell_type": "code",
   "execution_count": null,
   "id": "0784e699",
   "metadata": {},
   "outputs": [],
   "source": [
    "# Bits range "
   ]
  },
  {
   "cell_type": "code",
   "execution_count": 128,
   "id": "9357a400",
   "metadata": {},
   "outputs": [
    {
     "name": "stdout",
     "output_type": "stream",
     "text": [
      "Enter the no of bits :8\n",
      "Signed or Unsigned ?Unsigned\n",
      "Unsigned :\n",
      "Min:0\n",
      "Max:255\n"
     ]
    }
   ],
   "source": [
    "maxu=0\n",
    "minu=0\n",
    "maxs=0\n",
    "mins=0\n",
    "bits=int(input(\"Enter the no of bits :\"))\n",
    "s=input(\"Signed or Unsigned ?\")\n",
    "if s ==\"Unsigned\":\n",
    "    minu=0\n",
    "    maxu=pow(2,bits)-1\n",
    "    print(\"Unsigned :\\nMin:{}\\nMax:{}\".format(minu,maxu))\n",
    "elif s==\"Signed\":\n",
    "    mins=pow(2,bits-1)*(-1)\n",
    "    maxs=pow(2,bits-1)-1\n",
    "    print(\"Signed :\\nMin:{}\\nMax:{}\".format(mins,maxs))\n",
    "else:\n",
    "    print(\"Enter either Signed or Unsigned Please !! \")\n",
    "    "
   ]
  },
  {
   "cell_type": "code",
   "execution_count": 130,
   "id": "614cfd37",
   "metadata": {},
   "outputs": [],
   "source": [
    "#Playing with biwise operators"
   ]
  },
  {
   "cell_type": "code",
   "execution_count": null,
   "id": "f9ea9777",
   "metadata": {},
   "outputs": [],
   "source": [
    "a=int(input())\n",
    "b=int(input())\n",
    "while(1):\n",
    "    print(\"Menu:\")\n",
    "    print(\"######################\")\n",
    "    print(\"1.and\\n2.or\\n3.xor\\n4.negation\")\n",
    "    print(\"######################\")\n",
    "    choice=int(input(\"Enter your choice:\"))\n",
    "    \n",
    "    if choice==1:\n",
    "        print(a & b)\n",
    "    elif choice==2:\n",
    "        print(a | b)\n",
    "        \n",
    "    elif choice==3:\n",
    "        print(a ^ b)\n",
    "       \n",
    "    elif choice==4:\n",
    "        print(~a)\n",
    "    else:\n",
    "        print(\"Please enter a valid option--->\")\n",
    "        break\n",
    "        \n",
    "        "
   ]
  },
  {
   "cell_type": "code",
   "execution_count": 1,
   "id": "7efb937c",
   "metadata": {},
   "outputs": [
    {
     "name": "stdout",
     "output_type": "stream",
     "text": [
      "-3\n"
     ]
    }
   ],
   "source": [
    "print(~2) #2's complement of a's 2 complement"
   ]
  },
  {
   "cell_type": "code",
   "execution_count": 2,
   "id": "cbed4712",
   "metadata": {},
   "outputs": [],
   "source": [
    "# Shift operators "
   ]
  },
  {
   "cell_type": "code",
   "execution_count": 6,
   "id": "24851331",
   "metadata": {},
   "outputs": [],
   "source": [
    "# 1. Left shift operator <--"
   ]
  },
  {
   "cell_type": "code",
   "execution_count": 3,
   "id": "b6159c80",
   "metadata": {},
   "outputs": [
    {
     "data": {
      "text/plain": [
       "22"
      ]
     },
     "execution_count": 3,
     "metadata": {},
     "output_type": "execute_result"
    }
   ],
   "source": [
    "a=11\n",
    "a<<1"
   ]
  },
  {
   "cell_type": "code",
   "execution_count": 4,
   "id": "bde37add",
   "metadata": {},
   "outputs": [
    {
     "data": {
      "text/plain": [
       "44"
      ]
     },
     "execution_count": 4,
     "metadata": {},
     "output_type": "execute_result"
    }
   ],
   "source": [
    "a<<2"
   ]
  },
  {
   "cell_type": "code",
   "execution_count": 7,
   "id": "b3cfde1c",
   "metadata": {},
   "outputs": [],
   "source": [
    "#logic= a*2^i"
   ]
  },
  {
   "cell_type": "code",
   "execution_count": 8,
   "id": "153a4a85",
   "metadata": {},
   "outputs": [
    {
     "name": "stdout",
     "output_type": "stream",
     "text": [
      "a:11\n",
      "i:2\n",
      "Left shifting to 2 :\n",
      "44\n"
     ]
    }
   ],
   "source": [
    "a=int(input(\"a:\"))\n",
    "i=int(input(\"i:\"))\n",
    "print(\"Left shifting to %d :\"%i)\n",
    "print(a*pow(2,i))"
   ]
  },
  {
   "cell_type": "code",
   "execution_count": 9,
   "id": "e3014ffa",
   "metadata": {},
   "outputs": [],
   "source": [
    "# lets watch the left shifting in the binary bits"
   ]
  },
  {
   "cell_type": "code",
   "execution_count": 26,
   "id": "3d193f1f",
   "metadata": {},
   "outputs": [
    {
     "name": "stdout",
     "output_type": "stream",
     "text": [
      "00001011\n",
      "00101100\n",
      "01011000\n"
     ]
    }
   ],
   "source": [
    "a=11\n",
    "print(format(a, '08b'))\n",
    "print(format(a<<2, '08b'))\n",
    "print(format(a<<3, '08b'))"
   ]
  },
  {
   "cell_type": "code",
   "execution_count": null,
   "id": "9222da0c",
   "metadata": {},
   "outputs": [],
   "source": [
    "# lets watch the right shifting in the binary bits"
   ]
  },
  {
   "cell_type": "code",
   "execution_count": 59,
   "id": "73000716",
   "metadata": {},
   "outputs": [
    {
     "name": "stdout",
     "output_type": "stream",
     "text": [
      "00001011\n",
      "00000101\n",
      "00000010\n"
     ]
    }
   ],
   "source": [
    "a=11\n",
    "print(format(a, '08b'))\n",
    "print(format(a>>1, '08b'))\n",
    "print(format(a>>2, '08b'))"
   ]
  },
  {
   "cell_type": "code",
   "execution_count": 27,
   "id": "19471b9d",
   "metadata": {},
   "outputs": [],
   "source": [
    "# Assigment question : Find out two power of a nth number using bitwise operator."
   ]
  },
  {
   "cell_type": "code",
   "execution_count": 44,
   "id": "7c6de478",
   "metadata": {},
   "outputs": [
    {
     "data": {
      "text/plain": [
       "1024"
      ]
     },
     "execution_count": 44,
     "metadata": {},
     "output_type": "execute_result"
    }
   ],
   "source": [
    "#ANSWER:\n",
    "def tothepower(n):\n",
    "    #leftwise\n",
    "    return 1<<n\n",
    "\n",
    "tothepower(10) #2^10"
   ]
  },
  {
   "cell_type": "code",
   "execution_count": 45,
   "id": "1d9eef5b",
   "metadata": {},
   "outputs": [],
   "source": [
    "# Check bits : if the value in ith bit is 0 : unset else set"
   ]
  },
  {
   "cell_type": "code",
   "execution_count": 6,
   "id": "e78bae6b",
   "metadata": {},
   "outputs": [
    {
     "name": "stdout",
     "output_type": "stream",
     "text": [
      "True\n",
      "00000101\n"
     ]
    }
   ],
   "source": [
    "def checkbit(n,i):\n",
    "    return True if(n>>i)&1 else False\n",
    "print(checkbit(10,1))\n",
    "#lets validate\n",
    "print(format(10>>1, '08b'))\n",
    "#last digit is 1"
   ]
  },
  {
   "cell_type": "code",
   "execution_count": 64,
   "id": "e0219543",
   "metadata": {},
   "outputs": [
    {
     "name": "stdout",
     "output_type": "stream",
     "text": [
      "True\n"
     ]
    }
   ],
   "source": [
    "def checkbit2(n,i):\n",
    "    return True if(n>>i)%2 else False #if it gives remainder its a 1\n",
    "print(checkbit(10,3))"
   ]
  },
  {
   "cell_type": "code",
   "execution_count": 72,
   "id": "2cb43471",
   "metadata": {},
   "outputs": [
    {
     "name": "stdout",
     "output_type": "stream",
     "text": [
      "True\n",
      "00001000\n"
     ]
    }
   ],
   "source": [
    "def checkbit3(n,i):\n",
    "    return True if n & (1<<i) else False\n",
    "print(checkbit(10,3))\n",
    "print(format(10 & (1<<3), '08b'))"
   ]
  },
  {
   "cell_type": "code",
   "execution_count": 73,
   "id": "b9afba7a",
   "metadata": {},
   "outputs": [],
   "source": [
    "# To count no of bits unset and set bits"
   ]
  },
  {
   "cell_type": "code",
   "execution_count": 2,
   "id": "1a139420",
   "metadata": {},
   "outputs": [
    {
     "name": "stdout",
     "output_type": "stream",
     "text": [
      "2\n"
     ]
    }
   ],
   "source": [
    "def countbits(n):\n",
    "    count=0\n",
    "    while(n!=0):\n",
    "        if n&1==1:\n",
    "            count=count+1\n",
    "        n=n>>1\n",
    "    print(count)\n",
    "countbits(10)"
   ]
  },
  {
   "cell_type": "code",
   "execution_count": 4,
   "id": "be03e706",
   "metadata": {},
   "outputs": [],
   "source": [
    "import math\n",
    "def countbits2(n):\n",
    "    count=0\n",
    "    for i in range(31):\n",
    "        if checkbit(n,i):\n",
    "            count+=1\n",
    "    return count"
   ]
  },
  {
   "cell_type": "code",
   "execution_count": 99,
   "id": "c312b399",
   "metadata": {},
   "outputs": [
    {
     "data": {
      "text/plain": [
       "2"
      ]
     },
     "execution_count": 99,
     "metadata": {},
     "output_type": "execute_result"
    }
   ],
   "source": [
    "countbits2(10)"
   ]
  },
  {
   "cell_type": "code",
   "execution_count": 100,
   "id": "0641fab9",
   "metadata": {},
   "outputs": [],
   "source": [
    "#Assigmnet question given x=5 y=3 , z=11111000"
   ]
  },
  {
   "cell_type": "code",
   "execution_count": 9,
   "id": "bedfbd75",
   "metadata": {},
   "outputs": [
    {
     "name": "stdout",
     "output_type": "stream",
     "text": [
      "Enter value of x :1\n",
      "Enter value of y :1\n",
      "10\n",
      "2\n"
     ]
    }
   ],
   "source": [
    "if __name__==\"__main__\":\n",
    "    x=int(input(\"Enter value of x :\"))\n",
    "    y=int(input(\"Enter value of y :\"))\n",
    "    k=x*str(1)+y*str(0)\n",
    "    p=int(k)\n",
    "    print(p)\n",
    "    print(countbits2(p))"
   ]
  },
  {
   "cell_type": "code",
   "execution_count": 5,
   "id": "61584f21",
   "metadata": {},
   "outputs": [
    {
     "name": "stdout",
     "output_type": "stream",
     "text": [
      "00011100\n"
     ]
    }
   ],
   "source": [
    "if __name__==\"__main__\":\n",
    "    #x=int(input(\"Enter value of x :\"))\n",
    "    #y=int(input(\"Enter value of y :\"))\n",
    "    x=3\n",
    "    y=2\n",
    "    k=pow(2,x)-1\n",
    "    print(format(k<<y, '08b'))    "
   ]
  },
  {
   "cell_type": "code",
   "execution_count": 6,
   "id": "718b6fb1",
   "metadata": {},
   "outputs": [
    {
     "name": "stdout",
     "output_type": "stream",
     "text": [
      "00011100\n"
     ]
    }
   ],
   "source": [
    "x=3\n",
    "y=2\n",
    "k=(1<<3)-1\n",
    "print(format(k<<y, '08b'))    "
   ]
  },
  {
   "cell_type": "code",
   "execution_count": 7,
   "id": "ab95c98c",
   "metadata": {},
   "outputs": [
    {
     "name": "stdout",
     "output_type": "stream",
     "text": [
      "00011100\n"
     ]
    }
   ],
   "source": [
    "x=3\n",
    "y=2\n",
    "print(format((1<<y)*((1<<x)-1), '08b'))    "
   ]
  },
  {
   "cell_type": "code",
   "execution_count": 12,
   "id": "7e776623",
   "metadata": {},
   "outputs": [
    {
     "name": "stdout",
     "output_type": "stream",
     "text": [
      "2\n"
     ]
    }
   ],
   "source": [
    "x=3\n",
    "y=2\n",
    "print(format(1<<((x+y)-1)-((1<<y)-1)))"
   ]
  },
  {
   "cell_type": "code",
   "execution_count": 15,
   "id": "83bddf93",
   "metadata": {},
   "outputs": [
    {
     "name": "stdout",
     "output_type": "stream",
     "text": [
      "40\n"
     ]
    }
   ],
   "source": [
    "# To set xth and yth bit 1.\n",
    "x=5\n",
    "y=3\n",
    "print((1<<x) + (1<<y)) #wrong answer when i=y\n"
   ]
  },
  {
   "cell_type": "code",
   "execution_count": 17,
   "id": "633bc543",
   "metadata": {},
   "outputs": [
    {
     "name": "stdout",
     "output_type": "stream",
     "text": [
      "8\n"
     ]
    }
   ],
   "source": [
    "# So we need to use something which will always give output as 1\n",
    "# OR - operator\n",
    "x=3\n",
    "y=2\n",
    "print((1<<x) or (1<<y))"
   ]
  }
 ],
 "metadata": {
  "kernelspec": {
   "display_name": "Python 3",
   "language": "python",
   "name": "python3"
  },
  "language_info": {
   "codemirror_mode": {
    "name": "ipython",
    "version": 3
   },
   "file_extension": ".py",
   "mimetype": "text/x-python",
   "name": "python",
   "nbconvert_exporter": "python",
   "pygments_lexer": "ipython3",
   "version": "3.8.8"
  }
 },
 "nbformat": 4,
 "nbformat_minor": 5
}
